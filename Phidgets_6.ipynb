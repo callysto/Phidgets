{
 "cells": [
  {
   "cell_type": "markdown",
   "id": "a954153d",
   "metadata": {},
   "source": [
    "![Callysto.ca Banner](https://github.com/callysto/curriculum-notebooks/blob/master/callysto-notebook-banner-top.jpg?raw=true)\n",
    "\n"]
  },
  {
   "cell_type": "code",
   "execution_count": null,
   "id": "2ec3214c",
   "metadata": {},
   "outputs": [],
   "source": [
    "%%html\n",
    "<script>\n",
    "  function code_toggle() {\n",
    "    if (code_shown){\n",
    "      $('div.input').hide('500');\n",
    "      $('#toggleButton').val('Show Code')\n",
    "    } else {\n",
    "      $('div.input').show('500');\n",
    "      $('#toggleButton').val('Hide Code')\n",
    "    }\n",
    "    code_shown = !code_shown\n",
    "  }\n",
    "  \n",
    "  $( document ).ready(function(){\n",
    "    code_shown=false;\n",
    "    $('div.input').hide()\n",
    "  });\n",
    "</script>\n",
    "<form action=\"javascript:code_toggle()\"><input type=\"submit\" id=\"toggleButton\" value=\"Show Code\"></form>"
   ]
  },
  {
   "cell_type": "markdown",
   "id": "f10f5b13",
   "metadata": {},
   "source": [
    "## Phidgets_6\n",
    "\n",
    "Using what we have learned so far, let's add some graphs to the display. This way we can see record over time of the temperature and humidity readings. \n"
   ]
  },
  {
   "cell_type": "markdown",
   "id": "0aad94cc",
   "metadata": {},
   "source": [
    "## Setup the device\n",
    "\n",
    "Click the button below \"Connect Phidgets\" to connect your phidget device to this Jupyter notebook.\n",
    "\n",
    "You must be running on Chrome on your laptop or desktop, and the Phidget device needs to be connected to the USB port on your computer. \n",
    "\n",
    "The Javascript code here is much like before, except now we have introduced callback functions \"openHumidityPhidget\" and \"openTemperaturePhidget.\" A callback function is just a function that gets called whenever these JS function operate.\n",
    "\n",
    "What is nice here is the callback function is written in Python, so it is easy for us to program them in Python, and make changes as we need to. "
   ]
  },
  {
   "cell_type": "code",
   "execution_count": 1,
   "id": "a2b2b566",
   "metadata": {},
   "outputs": [
    {
     "data": {
      "text/html": [
       "<script>\n",
       "requirejs.config({\n",
       "    paths: { \n",
       "        'phidget22': ['https://unpkg.com/phidget22@^3.10/browser/phidget22'], \n",
       "    },                                  \n",
       "});\n",
       "\n",
       "var usbconn;\n",
       "require(['phidget22'], function(phidget22) {\n",
       "    console.log(phidget22);  \n",
       "    if(usbconn == null){\n",
       "        usbconn = new phidget22.USBConnection({\n",
       "        name: \"USB Devices\",\n",
       "        onError: (code, msg) => { console.error(\"Connection Error:\", msg); }\n",
       "        });\n",
       "    }\n",
       "    console.log(usbconn)\n",
       "    \n",
       "    usbconn.connect().catch(err => {\n",
       "        usbconn.delete();\n",
       "        console.error(\"Error connecting to USB\", err);\n",
       "        alert('Failed to connect to USB: ' + err);\n",
       "    });\n",
       "    \n",
       "    openHumidityPhidget();\n",
       "    openTemperaturePhidget();\n",
       "    \n",
       "    return {};\n",
       "});\n",
       "\n",
       "function openHumidityPhidget(){\n",
       "    require(['phidget22'], function(phidget22) {\n",
       "        let humiditySensor = new phidget22.HumiditySensor();\n",
       "        humiditySensor.onHumidityChange = function (humidity) {\n",
       "            IPython.notebook.kernel.execute(\n",
       "                \"callback_hum(\" + humidity + \");\"\n",
       "            );  \n",
       "        };\n",
       "        humiditySensor.open();\n",
       "        return {};\n",
       "});\n",
       "}\n",
       "\n",
       "function openTemperaturePhidget(){\n",
       "    require(['phidget22'], function(phidget22) {\n",
       "        let temperatureSensor = new phidget22.TemperatureSensor();\n",
       "        temperatureSensor.onTemperatureChange = function (temperature) {\n",
       "            IPython.notebook.kernel.execute(\n",
       "                \"callback_temp(\" + temperature + \");\"\n",
       "            );  \n",
       "        };\n",
       "        temperatureSensor.open();\n",
       "        return {};\n",
       "});\n",
       "}\n",
       "    \n",
       "function connectPhidgets(){\n",
       "    require(['phidget22'], function(phidget22) {\n",
       "    console.log(usbconn);  // or whatever\n",
       "    try {\n",
       "        usbconn.requestWebUSBDeviceAccess();\n",
       "    } catch (err) {\n",
       "        console.error('Request device error', err);\n",
       "    };\n",
       "    return {};\n",
       "});\n",
       "}\n",
       "\n",
       "</script>\n",
       "<div>\n",
       "<button onclick=\"connectPhidgets()\">Connect Phidgets</button>\n",
       "</div>\n"
      ],
      "text/plain": [
       "<IPython.core.display.HTML object>"
      ]
     },
     "metadata": {},
     "output_type": "display_data"
    }
   ],
   "source": [
    "%%html\n",
    "<script>\n",
    "requirejs.config({\n",
    "    paths: { \n",
    "        'phidget22': ['https://unpkg.com/phidget22@^3.10/browser/phidget22'], \n",
    "    },                                  \n",
    "});\n",
    "\n",
    "var usbconn;\n",
    "require(['phidget22'], function(phidget22) {\n",
    "    console.log(phidget22);  \n",
    "    if(usbconn == null){\n",
    "        usbconn = new phidget22.USBConnection({\n",
    "        name: \"USB Devices\",\n",
    "        onError: (code, msg) => { console.error(\"Connection Error:\", msg); }\n",
    "        });\n",
    "    }\n",
    "    console.log(usbconn)\n",
    "    \n",
    "    usbconn.connect().catch(err => {\n",
    "        usbconn.delete();\n",
    "        console.error(\"Error connecting to USB\", err);\n",
    "        alert('Failed to connect to USB: ' + err);\n",
    "    });\n",
    "    \n",
    "    openHumidityPhidget();\n",
    "    openTemperaturePhidget();\n",
    "    \n",
    "    return {};\n",
    "});\n",
    "\n",
    "function openHumidityPhidget(){\n",
    "    require(['phidget22'], function(phidget22) {\n",
    "        let humiditySensor = new phidget22.HumiditySensor();\n",
    "        humiditySensor.onHumidityChange = function (humidity) {\n",
    "            IPython.notebook.kernel.execute(\n",
    "                \"callback_hum(\" + humidity + \");\"\n",
    "            );  \n",
    "        };\n",
    "        humiditySensor.open();\n",
    "        return {};\n",
    "});\n",
    "}\n",
    "\n",
    "function openTemperaturePhidget(){\n",
    "    require(['phidget22'], function(phidget22) {\n",
    "        let temperatureSensor = new phidget22.TemperatureSensor();\n",
    "        temperatureSensor.onTemperatureChange = function (temperature) {\n",
    "            IPython.notebook.kernel.execute(\n",
    "                \"callback_temp(\" + temperature + \");\"\n",
    "            );  \n",
    "        };\n",
    "        temperatureSensor.open();\n",
    "        return {};\n",
    "});\n",
    "}\n",
    "    \n",
    "function connectPhidgets(){\n",
    "    require(['phidget22'], function(phidget22) {\n",
    "    console.log(usbconn);  // or whatever\n",
    "    try {\n",
    "        usbconn.requestWebUSBDeviceAccess();\n",
    "    } catch (err) {\n",
    "        console.error('Request device error', err);\n",
    "    };\n",
    "    return {};\n",
    "});\n",
    "}\n",
    "\n",
    "</script>\n",
    "<div>\n",
    "<button onclick=\"connectPhidgets()\">Connect Phidgets</button>\n",
    "</div>"
   ]
  },
  {
   "cell_type": "markdown",
   "id": "6e7dc6c8",
   "metadata": {},
   "source": [
    "### Libraries\n",
    "\n",
    "We include a few libraries, for plotting and doing numerical work."
   ]
  },
  {
   "cell_type": "code",
   "execution_count": 2,
   "id": "2ffc826b",
   "metadata": {},
   "outputs": [],
   "source": [
    "from plotly.subplots import make_subplots\n",
    "import plotly.graph_objects as go\n",
    "import numpy as np"
   ]
  },
  {
   "cell_type": "markdown",
   "id": "d02ab9b4",
   "metadata": {},
   "source": [
    "## Utility functions\n",
    "\n",
    "We introduce a few utility functions, which are used to set the ranges on the Y axis of our graphs. We don't know what temperature or humidity to expect, so we set the Y range to about $\\pm 2$ degrees of the current temperature value, and $\\pm 10$ percentage points for the humidity. \n",
    "\n",
    "This will make it easier for us to see small changes in the reading, reflected in the graphs."
   ]
  },
  {
   "cell_type": "code",
   "execution_count": 3,
   "id": "6d8fc4ee",
   "metadata": {},
   "outputs": [],
   "source": [
    "## Utility function to bracket a value by plus/minus 2, 5 or 10\n",
    "\n",
    "def bracket2(value):\n",
    "    return (2*np.round(value/2)-2, 2*np.round(value/2)+2)\n",
    "\n",
    "def bracket5(value):\n",
    "    return (5*np.round(value/5)-5, 5*np.round(value/5)+5)\n",
    "\n",
    "def bracket10(value):\n",
    "    return (10*np.round(value/10)-10, 10*np.round(value/10)+10)"
   ]
  },
  {
   "cell_type": "markdown",
   "id": "34139898",
   "metadata": {},
   "source": [
    "## Callback functions\n",
    "\n",
    "Here we define the callback functions. These functions get called whenevern the Phidgets report new values for temperature and humidity. They are initiatied from the Javascript code above.\n",
    "\n",
    "We have two buffers, or arrays, to store the temperature and humidity readings over a period of time. We chose 100 points, for simplicity, but you could change this. \n",
    "\n",
    "The callback functions do three things:\n",
    "- update the value in the temperature or humidity gauge\n",
    "- store the new value at the end of buffer, and display the 100 values in the temperature or humidity graph\n",
    "- update the range of the y-axis for the graph, so it brackets the actual reading value.\n",
    "\n",
    "As mentioned above, we do this bracketing so the graphs look nice, and we can see small changes in tmeperature or humidity.\n",
    "\n",
    "Feel free to experiment on better ways to display the charts. "
   ]
  },
  {
   "cell_type": "code",
   "execution_count": 4,
   "id": "b8dba5e4",
   "metadata": {},
   "outputs": [],
   "source": [
    "buffer_len = 100\n",
    "\n",
    "h_buffer = np.zeros(buffer_len)\n",
    "t_buffer = np.zeros(buffer_len)\n",
    "\n",
    "def callback_temp(value):\n",
    "    f.data[0]['value'] = value      \n",
    "    t_buffer[0:-1] = t_buffer[1:]\n",
    "    t_buffer[-1] = value\n",
    "    f.data[2]['y'] = t_buffer\n",
    "    f.layout['yaxis']['range'] = bracket2(value)\n",
    "   \n",
    "def callback_hum(value):\n",
    "    f.data[1]['value'] = value\n",
    "    h_buffer[0:-1] = h_buffer[1:]\n",
    "    h_buffer[-1] = value\n",
    "    f.data[3]['y'] = h_buffer\n",
    "    f.layout['yaxis2']['range'] = bracket10(value)\n",
    " "
   ]
  },
  {
   "cell_type": "markdown",
   "id": "566812cf",
   "metadata": {},
   "source": [
    "## The gauges and charts\n",
    "\n",
    "Finally, we create the two gauges for temperature and humidity, and the two charts to display the data over time. The gauges are called **t_indicator** and **h_indicator**, and the charts are called **t_chart** and **h_chart**.\n",
    "\n",
    "We use the features of Plotly to put this four items into a single figure, using the **subplot()** function. We also add titles and some default ranges for the y-axes in the charts, to make this all work with the callback functions above. \n",
    "\n",
    "We then turn the figure into a live widget, using the **FigureWidget()** function"
   ]
  },
  {
   "cell_type": "code",
   "execution_count": 5,
   "id": "390878fc",
   "metadata": {},
   "outputs": [
    {
     "data": {
      "application/vnd.jupyter.widget-view+json": {
       "model_id": "bb1cfd04fd9b4210bcd6a3515808b1b5",
       "version_major": 2,
       "version_minor": 0
      },
      "text/plain": [
       "FigureWidget({\n",
       "    'data': [{'domain': {'x': [0.0, 0.45], 'y': [0.575, 1.0]},\n",
       "              'gauge': {'axis': …"
      ]
     },
     "metadata": {},
     "output_type": "display_data"
    }
   ],
   "source": [
    "x = np.arange(buffer_len)\n",
    "\n",
    "t_indicator = go.Indicator(\n",
    "    mode = \"gauge+number\",\n",
    "    value = 20,\n",
    "    domain = {'x': [0, 1], 'y': [0, 1]},\n",
    "    title = {'text': \"Temperature\"},\n",
    "    gauge = {'axis': {'range': [5, 35]}}\n",
    ")\n",
    "\n",
    "h_indicator = go.Indicator(\n",
    "    mode = \"gauge+number\",\n",
    "    value = 40,\n",
    "    domain = {'x': [0, 1], 'y': [0, 1]},\n",
    "    title = {'text': \"Humidity\"},\n",
    "    gauge = {'axis': {'range': [0, 100]}}\n",
    ")\n",
    "\n",
    "\n",
    "t_chart = go.Scatter(x=x, y=t_buffer, mode='lines')\n",
    "h_chart = go.Scatter(x=x, y=h_buffer, mode='lines')\n",
    "\n",
    "\n",
    "fig = make_subplots(\n",
    "    rows=2,\n",
    "    cols=2,\n",
    "    specs=[[{'type' : 'domain'}, {'type' : 'domain'}],\n",
    "           [{'type' : 'xy'}, {'type' : 'xy'}]])\n",
    "fig.append_trace(t_indicator, row=1, col=1)\n",
    "fig.append_trace(h_indicator, row=1, col=2)\n",
    "fig.append_trace(t_chart, row=2, col=1)\n",
    "fig.append_trace(h_chart, row=2, col=2)\n",
    "\n",
    "fig.update_traces(name='Temperature', showlegend = True, row=2, col=1)\n",
    "fig.update_traces(name='Humidity', showlegend = True, row=2, col=2)\n",
    "\n",
    "fig.update_yaxes(title_text=\"Degrees C\", range=[10, 30], row=2, col=1)\n",
    "fig.update_yaxes(title_text=\"Percentage\", range=[50, 70], row=2, col=2)\n",
    "\n",
    "f = go.FigureWidget(fig)\n",
    "\n",
    "f"
   ]
  },
  {
   "cell_type": "markdown",
   "id": "26773ba1",
   "metadata": {},
   "source": [
    "## Going further\n",
    "\n",
    "Some ideas to try on your own:\n",
    "\n",
    "- is there a better way to bracket the values when we set the y-axis limits? Can we make the display nicer?\n",
    "- can we add some \"memory\" to the y-axis ranges, so they don't jump around too much when the temperature or humidity reading crosses some critical points? For instance, when the temperature crosses an odd integer (e.g. value = 27), the range will jump around from (24,28) t0 (26,30). Which is a rather ugly display\n",
    "- can we update the charts only once a second? That way it is easier to see the slow changes in value.\n",
    "- can we record the x-axis as a time value, so we know at what time certain readings occur?\n",
    "- can we save the data into a file, on some regular basis? This should include data and time stamps, so we have an accurate historical record of the reading.\n"
   ]
  },
  {
   "cell_type": "markdown",
   "id": "ba7ee230",
   "metadata": {},
   "source": [
    "[![Callysto.ca License](https://github.com/callysto/curriculum-notebooks/blob/master/callysto-notebook-banner-bottom.jpg?raw=true)](https://github.com/callysto/curriculum-notebooks/blob/master/LICENSE.md)"
   ]
  }
 ],
 "metadata": {
  "kernelspec": {
   "display_name": "Python 3 (ipykernel)",
   "language": "python",
   "name": "python3"
  },
  "language_info": {
   "codemirror_mode": {
    "name": "ipython",
    "version": 3
   },
   "file_extension": ".py",
   "mimetype": "text/x-python",
   "name": "python",
   "nbconvert_exporter": "python",
   "pygments_lexer": "ipython3",
   "version": "3.9.12"
  }
 },
 "nbformat": 4,
 "nbformat_minor": 5
}
