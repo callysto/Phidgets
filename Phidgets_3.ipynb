{
 "cells": [
  {
   "cell_type": "markdown",
   "id": "a954153d",
   "metadata": {},
   "source": [
    "![Callysto.ca Banner](https://github.com/callysto/curriculum-notebooks/blob/master/callysto-notebook-banner-top.jpg?raw=true)\n",
    "\n"
   ]
  },
  {
   "cell_type": "markdown",
   "id": "f10f5b13",
   "metadata": {},
   "source": [
    "## Phidgets_3\n",
    "\n",
    "Here we just show how to create a humidity gauge in Plotly, and show how to update its readings.\n",
    "\n",
    "We don't access the Phidget just yet, as that is another layer of complication.\n",
    "\n",
    "### Libraries\n",
    "\n",
    "First we import a few libraries. The clear_output function is used to update our display of the gauge. "
   ]
  },
  {
   "cell_type": "code",
   "execution_count": null,
   "id": "1a475e77",
   "metadata": {},
   "outputs": [],
   "source": [
    "import plotly.graph_objects as go\n",
    "from IPython.display import clear_output\n",
    "from time import sleep"
   ]
  },
  {
   "cell_type": "markdown",
   "id": "c9575565",
   "metadata": {},
   "source": [
    "## The gauge\n",
    "\n",
    "We make a call to the Plotly libary to creat the gauge, which is called an **Indicator.**\n",
    "\n",
    "When we call fig.show(), we can see the gauge."
   ]
  },
  {
   "cell_type": "code",
   "execution_count": null,
   "id": "2ff32889",
   "metadata": {},
   "outputs": [],
   "source": [
    "fig = go.Figure(go.Indicator(\n",
    "    mode = \"gauge+number\",\n",
    "    value = 10,\n",
    "    domain = {'x': [0, 1], 'y': [0, 1]},\n",
    "    title = {'text': \"Humidity\"},\n",
    "    gauge = {'axis': {'range': [None, 100]}}\n",
    "))\n",
    "\n",
    "fig.show()"
   ]
  },
  {
   "cell_type": "markdown",
   "id": "1da0c18e",
   "metadata": {},
   "source": [
    "## A live gauge in a loop\n",
    "\n",
    "We can update the values in the gauge by placing a value into the data structure **fig**, like this:\n",
    "```\n",
    "fig[\"data\"][0]['value'] = i*10\n",
    "```\n",
    "\n",
    "So let's put this in a loop, and display the changes. \n",
    "\n",
    "We use the sleep function to wait one second between changes\n"
   ]
  },
  {
   "cell_type": "code",
   "execution_count": null,
   "id": "78187c2a",
   "metadata": {},
   "outputs": [],
   "source": [
    "for i in range(10):\n",
    "    fig[\"data\"][0]['value'] = i*10\n",
    "    clear_output(wait=True)\n",
    "    fig.show()\n",
    "    sleep(1)"
   ]
  },
  {
   "cell_type": "markdown",
   "id": "432f7f03",
   "metadata": {},
   "source": [
    "## Conclusion\n",
    "\n",
    "We are able to display a gauge, and update the values."
   ]
  },
  {
   "cell_type": "markdown",
   "id": "ba7ee230",
   "metadata": {},
   "source": [
    "[![Callysto.ca License](https://github.com/callysto/curriculum-notebooks/blob/master/callysto-notebook-banner-bottom.jpg?raw=true)](https://github.com/callysto/curriculum-notebooks/blob/master/LICENSE.md)"
   ]
  }
 ],
 "metadata": {
  "kernelspec": {
   "display_name": "Python 3 (ipykernel)",
   "language": "python",
   "name": "python3"
  },
  "language_info": {
   "codemirror_mode": {
    "name": "ipython",
    "version": 3
   },
   "file_extension": ".py",
   "mimetype": "text/x-python",
   "name": "python",
   "nbconvert_exporter": "python",
   "pygments_lexer": "ipython3",
   "version": "3.9.12"
  }
 },
 "nbformat": 4,
 "nbformat_minor": 5
}
