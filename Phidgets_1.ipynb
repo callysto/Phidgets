{
 "cells": [
  {
   "cell_type": "markdown",
   "id": "bcfef756",
   "metadata": {},
   "source": [
    "![Callysto.ca Banner](https://github.com/callysto/curriculum-notebooks/blob/master/callysto-notebook-banner-top.jpg?raw=true)\n",
    "\n",
    "<a href=\"https://hub.callysto.ca/jupyter/hub/user-redirect/git-pull?repo=https%3A%2F%2Fgithub.com%2Fcallysto%2Fcurriculum-notebooks&branch=master&subPath=Arts/ImageEditing/image-editing.ipynb&depth=1\" target=\"_parent\"><img src=\"https://raw.githubusercontent.com/callysto/curriculum-notebooks/master/open-in-callysto-button.svg?sanitize=true\" width=\"123\" height=\"24\" alt=\"Open in Callysto\"/></a>"
   ]
  },
  {
   "cell_type": "markdown",
   "id": "3514789c",
   "metadata": {},
   "source": [
    "## Phidgets_1\n",
    "\n",
    "This short notebook introduces how we access a Phidgets device from a Jupyter notebook.\n",
    "\n",
    "It is important to run this notebook in the Google Chrome web browser, on a desktop or laptop computer. Unfortunately, other browsers (FireFox, Safari, Edge) will not work as they cannot access the USB port that connects to the Phidget device.\n",
    "\n",
    "#### Structure of the code\n",
    "\n",
    "There is just one code cell in this notebook. It called a \"magic\" cell as it starts with the line\n",
    "```\n",
    "%% html\n",
    "```\n",
    "This just tells the notebook that the following is an HTML program, which is the standard language for building a webpage.\n",
    "\n",
    "The large chunk of code between <script> and </script> is a JavaScript program, that does all the work talking to the Phidget device. More on this later. \n",
    "\n",
    "The last piece of HTML code is this:\n",
    "```\n",
    "<div>\n",
    "<button onclick=\"connectPhidgets()\">Connect Phidgets</button>\n",
    "<p id=\"humidity\"</p>\n",
    "</div>\n",
    "```\n",
    "This simply creates a division on the HTML page, adds a button on the page, and adds a placeholder where the humidity value will be displayed. \n",
    "\n",
    "You can run this next cell by clicking on it, and selecting \"Run\" in the menu above. Try this now. "
   ]
  },
  {
   "cell_type": "code",
   "execution_count": 1,
   "id": "a2b2b566",
   "metadata": {},
   "outputs": [
    {
     "data": {
      "text/html": [
       "<script>\n",
       "requirejs.config({\n",
       "    paths: { \n",
       "        'phidget22': ['https://unpkg.com/phidget22@^3.10/browser/phidget22'], \n",
       "    },                                         \n",
       "});\n",
       "\n",
       "var usbconn;\n",
       "require(['phidget22'], function(phidget22) {\n",
       "    console.log(phidget22);  // or whatever\n",
       "    if(usbconn == null){\n",
       "        usbconn = new phidget22.USBConnection({\n",
       "        name: \"USB Devices\",\n",
       "        onError: (code, msg) => { console.error(\"Connection Error:\", msg); }\n",
       "        });\n",
       "    }\n",
       "    console.log(usbconn)\n",
       "    \n",
       "    usbconn.connect().catch(err => {\n",
       "        usbconn.delete();\n",
       "        console.error(\"Error connecting to USB\", err);\n",
       "        alert('Failed to connect to USB: ' + err);\n",
       "    });\n",
       "    \n",
       "    openHumidityPhidget();\n",
       "    \n",
       "    return {};\n",
       "});\n",
       "\n",
       "function openHumidityPhidget(){\n",
       "    require(['phidget22'], function(phidget22) {\n",
       "        let humiditySensor = new phidget22.HumiditySensor();\n",
       "        humiditySensor.onHumidityChange = function (humidity) {\n",
       "            document.getElementById(\"humidity\").innerHTML = humidity.toFixed(2).toString() + \"% Humidity\";\n",
       "        };\n",
       "        humiditySensor.open();\n",
       "        return {};\n",
       "    });\n",
       "}\n",
       "    \n",
       "function connectPhidgets(){\n",
       "    require(['phidget22'], function(phidget22) {\n",
       "        console.log(usbconn);  // or whatever\n",
       "        try {\n",
       "            usbconn.requestWebUSBDeviceAccess();\n",
       "        } \n",
       "        catch (err) {\n",
       "            console.error('Request device error', err);\n",
       "        };\n",
       "    return {};\n",
       "    });\n",
       "}\n",
       "</script>\n",
       "\n",
       "<div>\n",
       "<button onclick=\"connectPhidgets()\">Connect Phidgets</button>\n",
       "<p id=\"humidity\"</p>\n",
       "</div>\n"
      ],
      "text/plain": [
       "<IPython.core.display.HTML object>"
      ]
     },
     "metadata": {},
     "output_type": "display_data"
    }
   ],
   "source": [
    "%%html\n",
    "<script>\n",
    "requirejs.config({\n",
    "    paths: { \n",
    "        'phidget22': ['https://unpkg.com/phidget22@^3.10/browser/phidget22'], \n",
    "    },                                         \n",
    "});\n",
    "\n",
    "var usbconn;\n",
    "require(['phidget22'], function(phidget22) {\n",
    "    console.log(phidget22);  // or whatever\n",
    "    if(usbconn == null){\n",
    "        usbconn = new phidget22.USBConnection({\n",
    "        name: \"USB Devices\",\n",
    "        onError: (code, msg) => { console.error(\"Connection Error:\", msg); }\n",
    "        });\n",
    "    }\n",
    "    console.log(usbconn)\n",
    "    \n",
    "    usbconn.connect().catch(err => {\n",
    "        usbconn.delete();\n",
    "        console.error(\"Error connecting to USB\", err);\n",
    "        alert('Failed to connect to USB: ' + err);\n",
    "    });\n",
    "    \n",
    "    openHumidityPhidget();\n",
    "    \n",
    "    return {};\n",
    "});\n",
    "\n",
    "function openHumidityPhidget(){\n",
    "    require(['phidget22'], function(phidget22) {\n",
    "        let humiditySensor = new phidget22.HumiditySensor();\n",
    "        humiditySensor.onHumidityChange = function (humidity) {\n",
    "            document.getElementById(\"humidity\").innerHTML = humidity.toFixed(2).toString() + \"% Humidity\";\n",
    "        };\n",
    "        humiditySensor.open();\n",
    "        return {};\n",
    "    });\n",
    "}\n",
    "    \n",
    "function connectPhidgets(){\n",
    "    require(['phidget22'], function(phidget22) {\n",
    "        console.log(usbconn);  // or whatever\n",
    "        try {\n",
    "            usbconn.requestWebUSBDeviceAccess();\n",
    "        } \n",
    "        catch (err) {\n",
    "            console.error('Request device error', err);\n",
    "        };\n",
    "    return {};\n",
    "    });\n",
    "}\n",
    "</script>\n",
    "\n",
    "<div>\n",
    "<button onclick=\"connectPhidgets()\">Connect Phidgets</button>\n",
    "<p id=\"humidity\"</p>\n",
    "</div>"
   ]
  },
  {
   "cell_type": "markdown",
   "id": "b0f26c64",
   "metadata": {},
   "source": [
    "## What you should see\n",
    "\n",
    "First, once you run the cell, you will see a button that says \"Connect Phidgets\", just above here. Click the button.\n",
    "\n",
    "When you click the button, you will see a window like this, asking you to connect.\n",
    "\n",
    "<img src=\"images/Pconnect.png\" alt=\"Hey\"  width = 300 />"
   ]
  },
  {
   "cell_type": "markdown",
   "id": "90fddba1",
   "metadata": {},
   "source": [
    "Select the VINT device by clicking on the text, then click the connect button. \n",
    "\n",
    "The next thing you will see is a display of the Humidity, just below that \"Connect\" button, like this. \n",
    "\n",
    "<img src=\"images/Phumidity.png\" alt=\"Hey\"  width = 300 />"
   ]
  },
  {
   "cell_type": "markdown",
   "id": "4438ea8e",
   "metadata": {},
   "source": [
    "And that's it. The Phidget device will continue to monitor the humidity, and display it on the screen.\n",
    "\n",
    "This display is live, and responds to the environment. For instance, if you breathe on the humidity sensor, you should see the humidity values change in real time. \n",
    "\n",
    "Good job!"
   ]
  },
  {
   "cell_type": "markdown",
   "id": "9382ee3a",
   "metadata": {},
   "source": [
    "## In case of errors\n",
    "\n",
    "To fill out here. What kind of errors can happen? What should they do about them?\n",
    "\n",
    "Symptom 1. You click on \"Connect\" but do not see the VINT device displayed.\n",
    "\n",
    "    - Problem is likely that the Phidget device is not attached to your computer\n",
    "    - Solution is to plug in the Phidget to your computer's USB port, then try again.\n",
    "\n",
    "\n",
    "\n",
    "Symptom 2. You click on \"Connect\" and select the VINT device, but nothing else happens.\n",
    "\n",
    "    - Problem is likely that another piece of software is already connected to the device. For instance, if you have another Jupyter notebook using the device, or are using Phidget's MakeCode software\n",
    "    - Solution is to stop the other software from running.\n"
   ]
  },
  {
   "cell_type": "markdown",
   "id": "4871334f",
   "metadata": {},
   "source": [
    "[![Callysto.ca License](https://github.com/callysto/curriculum-notebooks/blob/master/callysto-notebook-banner-bottom.jpg?raw=true)](https://github.com/callysto/curriculum-notebooks/blob/master/LICENSE.md)"
   ]
  }
 ],
 "metadata": {
  "kernelspec": {
   "display_name": "Python 3 (ipykernel)",
   "language": "python",
   "name": "python3"
  },
  "language_info": {
   "codemirror_mode": {
    "name": "ipython",
    "version": 3
   },
   "file_extension": ".py",
   "mimetype": "text/x-python",
   "name": "python",
   "nbconvert_exporter": "python",
   "pygments_lexer": "ipython3",
   "version": "3.9.12"
  }
 },
 "nbformat": 4,
 "nbformat_minor": 5
}
