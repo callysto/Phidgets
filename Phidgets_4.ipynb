{
 "cells": [
  {
   "cell_type": "markdown",
   "id": "a954153d",
   "metadata": {},
   "source": [
    "![Callysto.ca Banner](https://github.com/callysto/curriculum-notebooks/blob/master/callysto-notebook-banner-top.jpg?raw=true)\n",
    "\n"]
  },
  {
   "cell_type": "markdown",
   "id": "f10f5b13",
   "metadata": {},
   "source": [
    "## Phidgets_4\n",
    "\n",
    "IN this notebook, we use a simple widget to display the humidity, live as the values change.\n",
    "\n",
    "You will also have the chance to create your own widget to display temperaure. "
   ]
  },
  {
   "cell_type": "markdown",
   "id": "0aad94cc",
   "metadata": {},
   "source": [
    "## Setup the device\n",
    "\n",
    "We need to run the following JavaScript code, in order to get the Phidget device connected and running. \n",
    "\n",
    "We have added two lines, that will communicate with Python. They look like this:\n",
    "```\n",
    "    IPython.notebook.kernel.execute(\"f.value = \" + humidity +\";\");  \n",
    "and\n",
    "    IPython.notebook.kernel.execute(\"g.value = \" + temperature +\";\");  \n",
    "\n",
    "```\n",
    "\n",
    "This lines communicate with our Python code and update the values in data structures **f** anf **g**.\n",
    "\n",
    "So run the following JS code, and connect your Phidget."
   ]
  },
  {
   "cell_type": "code",
   "execution_count": 8,
   "id": "a2b2b566",
   "metadata": {},
   "outputs": [
    {
     "data": {
      "text/html": [
       "<script>\n",
       "requirejs.config({\n",
       "    paths: { \n",
       "        'phidget22': ['https://unpkg.com/phidget22@^3.10/browser/phidget22'], \n",
       "    },                                         // strip .js ^, require adds it back\n",
       "});\n",
       "\n",
       "var usbconn;\n",
       "require(['phidget22'], function(phidget22) {\n",
       "    console.log(phidget22);  // or whatever\n",
       "    if(usbconn == null){\n",
       "        usbconn = new phidget22.USBConnection({\n",
       "        name: \"USB Devices\",\n",
       "        onError: (code, msg) => { console.error(\"Connection Error:\", msg); }\n",
       "        });\n",
       "    }\n",
       "    console.log(usbconn)\n",
       "    \n",
       "    usbconn.connect().catch(err => {\n",
       "        usbconn.delete();\n",
       "        console.error(\"Error connecting to USB\", err);\n",
       "        alert('Failed to connect to USB: ' + err);\n",
       "    });\n",
       "    \n",
       "    openHumidityPhidget();\n",
       "    openTemperaturePhidget();\n",
       "    \n",
       "    return {};\n",
       "});\n",
       "\n",
       "function openHumidityPhidget(){\n",
       "    require(['phidget22'], function(phidget22) {\n",
       "        let humiditySensor = new phidget22.HumiditySensor();\n",
       "        humiditySensor.onHumidityChange = function (humidity) {\n",
       "            document.getElementById(\"humidity\").innerHTML = humidity.toFixed(2).toString() + \"% Humidity\";\n",
       "            IPython.notebook.kernel.execute(\"f.value = \" + humidity +\";\");  \n",
       "        };\n",
       "        humiditySensor.open();\n",
       "        return {};\n",
       "});\n",
       "}\n",
       "\n",
       "    function openTemperaturePhidget(){\n",
       "    require(['phidget22'], function(phidget22) {\n",
       "        let temperatureSensor = new phidget22.TemperatureSensor();\n",
       "        temperatureSensor.onTemperatureChange = function (temperature) {\n",
       "            document.getElementById(\"temperature\").innerHTML = temperature.toFixed(2).toString() + \" degrees C\";\n",
       "            IPython.notebook.kernel.execute(\"g.value = \" + temperature +\";\");  \n",
       "        };\n",
       "        temperatureSensor.open();\n",
       "        return {};\n",
       "});\n",
       "}\n",
       "    \n",
       "function connectPhidgets(){\n",
       "    require(['phidget22'], function(phidget22) {\n",
       "    console.log(usbconn);  // or whatever\n",
       "    try {\n",
       "        usbconn.requestWebUSBDeviceAccess();\n",
       "    } catch (err) {\n",
       "        console.error('Request device error', err);\n",
       "    };\n",
       "    return {};\n",
       "});\n",
       "}\n",
       "</script>\n",
       "<div>\n",
       "<button onclick=\"connectPhidgets()\">Connect Phidgets</button>\n",
       "<p id=\"humidity\"</p>\n",
       "<p id=\"temperature\"</p>\n",
       "</div>\n"
      ],
      "text/plain": [
       "<IPython.core.display.HTML object>"
      ]
     },
     "metadata": {},
     "output_type": "display_data"
    }
   ],
   "source": [
    "%%html\n",
    "<script>\n",
    "requirejs.config({\n",
    "    paths: { \n",
    "        'phidget22': ['https://unpkg.com/phidget22@^3.10/browser/phidget22'], \n",
    "    },                                         // strip .js ^, require adds it back\n",
    "});\n",
    "\n",
    "var usbconn;\n",
    "require(['phidget22'], function(phidget22) {\n",
    "    console.log(phidget22);  // or whatever\n",
    "    if(usbconn == null){\n",
    "        usbconn = new phidget22.USBConnection({\n",
    "        name: \"USB Devices\",\n",
    "        onError: (code, msg) => { console.error(\"Connection Error:\", msg); }\n",
    "        });\n",
    "    }\n",
    "    console.log(usbconn)\n",
    "    \n",
    "    usbconn.connect().catch(err => {\n",
    "        usbconn.delete();\n",
    "        console.error(\"Error connecting to USB\", err);\n",
    "        alert('Failed to connect to USB: ' + err);\n",
    "    });\n",
    "    \n",
    "    openHumidityPhidget();\n",
    "    openTemperaturePhidget();\n",
    "    \n",
    "    return {};\n",
    "});\n",
    "\n",
    "function openHumidityPhidget(){\n",
    "    require(['phidget22'], function(phidget22) {\n",
    "        let humiditySensor = new phidget22.HumiditySensor();\n",
    "        humiditySensor.onHumidityChange = function (humidity) {\n",
    "            document.getElementById(\"humidity\").innerHTML = humidity.toFixed(2).toString() + \"% Humidity\";\n",
    "            IPython.notebook.kernel.execute(\"f.value = \" + humidity +\";\");  \n",
    "        };\n",
    "        humiditySensor.open();\n",
    "        return {};\n",
    "});\n",
    "}\n",
    "\n",
    "    function openTemperaturePhidget(){\n",
    "    require(['phidget22'], function(phidget22) {\n",
    "        let temperatureSensor = new phidget22.TemperatureSensor();\n",
    "        temperatureSensor.onTemperatureChange = function (temperature) {\n",
    "            document.getElementById(\"temperature\").innerHTML = temperature.toFixed(2).toString() + \" degrees C\";\n",
    "            IPython.notebook.kernel.execute(\"g.value = \" + temperature +\";\");  \n",
    "        };\n",
    "        temperatureSensor.open();\n",
    "        return {};\n",
    "});\n",
    "}\n",
    "    \n",
    "function connectPhidgets(){\n",
    "    require(['phidget22'], function(phidget22) {\n",
    "    console.log(usbconn);  // or whatever\n",
    "    try {\n",
    "        usbconn.requestWebUSBDeviceAccess();\n",
    "    } catch (err) {\n",
    "        console.error('Request device error', err);\n",
    "    };\n",
    "    return {};\n",
    "});\n",
    "}\n",
    "</script>\n",
    "<div>\n",
    "<button onclick=\"connectPhidgets()\">Connect Phidgets</button>\n",
    "<p id=\"humidity\"</p>\n",
    "<p id=\"temperature\"</p>\n",
    "</div>"
   ]
  },
  {
   "cell_type": "markdown",
   "id": "78948ba1",
   "metadata": {},
   "source": [
    "## Creating a widget\n",
    "\n",
    "The **ipywidgets** module contain several interactive \"objects\" like slider, buttons, and more, that we can use to interact with the Jupyter notebook. They are \"alive\" in the sense that the get updated automatically when their values are changed by some other process, like our Phidgets code in JavaScript. \n",
    "\n",
    "So we create here a slider, using floating point values, to display the Humidity. \n",
    "\n",
    "The slider is stored in a variable we call **f** and we can show it with the command **display(f)**.\n",
    "\n",
    "Of course, this is the data structure we say above in the JavaScript code, so that code talks to this displayed slider. \n",
    "\n"
   ]
  },
  {
   "cell_type": "code",
   "execution_count": 11,
   "id": "e71775a6",
   "metadata": {},
   "outputs": [
    {
     "data": {
      "application/vnd.jupyter.widget-view+json": {
       "model_id": "a33e096cd5384d779403cde75fdf549d",
       "version_major": 2,
       "version_minor": 0
      },
      "text/plain": [
       "FloatSlider(value=50.0, continuous_update=False, description='% Humidity ', max=80.0, min=40.0, orientation='v…"
      ]
     },
     "metadata": {},
     "output_type": "display_data"
    }
   ],
   "source": [
    "from ipywidgets import FloatSlider\n",
    "f = FloatSlider(\n",
    "    value=50.0,\n",
    "    min=40.0,\n",
    "    max=80.0,\n",
    "    step=0.1,\n",
    "    description='% Humidity ',\n",
    "    disabled=False,\n",
    "    continuous_update=False,\n",
    "    orientation='vertical',\n",
    "    readout=True,\n",
    "    readout_format='.2f',\n",
    ")\n",
    "display(f)"
   ]
  },
  {
   "cell_type": "markdown",
   "id": "a98b0940",
   "metadata": {},
   "source": [
    "## What you should see\n",
    "\n",
    "Just above, you should see a vertical slider titled **% Humidity** and a read-out beneath it showing the value of the humidity. The numbers should be changing as you watch it \n",
    "\n",
    "Try breathing on the humidity sensor in your Phidget box, to see if you can make the numbers change."
   ]
  },
  {
   "cell_type": "markdown",
   "id": "b2a833b9",
   "metadata": {},
   "source": [
    "## Your turn\n",
    "\n",
    "Now you can try to create a temperature gauge.\n",
    "\n",
    "Use the example above, and create a FloatSlider and assign it to a new variable called **g**. This is the variable that the JavaScript refers to, in order to record the temperature values."
   ]
  },
  {
   "cell_type": "code",
   "execution_count": 13,
   "id": "e80fed18",
   "metadata": {},
   "outputs": [],
   "source": [
    "## Put your code here. It should start with something like\n",
    "## g = FloatSlider(\n",
    "\n",
    "\n"
   ]
  },
  {
   "cell_type": "markdown",
   "id": "069c1921",
   "metadata": {},
   "source": [
    "## Put it all together\n",
    "\n",
    "Finally, we would like to display both temperature and humidity. \n",
    "\n",
    "Here we use both variables f and g, which represent the humidity and temperature gauges. The h is a horizontal box, that puts them together. \n",
    "\n",
    "Again, you can look at the JS code above, to see the key lines of code that communicate with this device. \n",
    "\n",
    "\n",
    "```\n",
    "    IPython.notebook.kernel.execute(\"f.value = \" + humidity +\";\");  \n",
    "and\n",
    "    IPython.notebook.kernel.execute(\"g.value = \" + temperature +\";\");  \n",
    "\n",
    "```\n"
   ]
  },
  {
   "cell_type": "code",
   "execution_count": 14,
   "id": "3a749836",
   "metadata": {},
   "outputs": [
    {
     "data": {
      "application/vnd.jupyter.widget-view+json": {
       "model_id": "f0bfc1be128a48ea8484f38400c5b9c3",
       "version_major": 2,
       "version_minor": 0
      },
      "text/plain": [
       "HBox(children=(FloatSlider(value=50.0, continuous_update=False, description='Humidity ', max=80.0, min=40.0, o…"
      ]
     },
     "metadata": {},
     "output_type": "display_data"
    }
   ],
   "source": [
    "from ipywidgets import FloatSlider, HBox\n",
    "\n",
    "f = FloatSlider(\n",
    "    value=50.0,\n",
    "    min=40.0,\n",
    "    max=80.0,\n",
    "    step=0.1,\n",
    "    description='Humidity ',\n",
    "    disabled=False,\n",
    "    continuous_update=False,\n",
    "    orientation='vertical',\n",
    "    readout=True,\n",
    "    readout_format='.2f',\n",
    ")\n",
    "g = FloatSlider(\n",
    "    value=20.0,\n",
    "    min=10.0,\n",
    "    max=30.0,\n",
    "    step=0.1,\n",
    "    description='Temperature',\n",
    "    disabled=False,\n",
    "    continuous_update=False,\n",
    "    orientation='vertical',\n",
    "    readout=True,\n",
    "    readout_format='.2f',\n",
    ")\n",
    "\n",
    "h = HBox([f, g])\n",
    "display(h)"
   ]
  },
  {
   "cell_type": "markdown",
   "id": "96ee6ba5",
   "metadata": {},
   "source": [
    "## Conclusion\n",
    "\n",
    "We have shown how to display the temperature and humidity values from the Phidget device using a live widget from the ipywidgets library. "
   ]
  },
  {
   "cell_type": "markdown",
   "id": "ba7ee230",
   "metadata": {},
   "source": [
    "[![Callysto.ca License](https://github.com/callysto/curriculum-notebooks/blob/master/callysto-notebook-banner-bottom.jpg?raw=true)](https://github.com/callysto/curriculum-notebooks/blob/master/LICENSE.md)"
   ]
  }
 ],
 "metadata": {
  "kernelspec": {
   "display_name": "Python 3 (ipykernel)",
   "language": "python",
   "name": "python3"
  },
  "language_info": {
   "codemirror_mode": {
    "name": "ipython",
    "version": 3
   },
   "file_extension": ".py",
   "mimetype": "text/x-python",
   "name": "python",
   "nbconvert_exporter": "python",
   "pygments_lexer": "ipython3",
   "version": "3.9.12"
  }
 },
 "nbformat": 4,
 "nbformat_minor": 5
}
