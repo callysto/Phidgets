{
 "cells": [
  {
   "cell_type": "markdown",
   "id": "a954153d",
   "metadata": {},
   "source": [
    "![Callysto.ca Banner](https://github.com/callysto/curriculum-notebooks/blob/master/callysto-notebook-banner-top.jpg?raw=true)\n",
    "\n",
    "<a href=\"https://hub.callysto.ca/jupyter/hub/user-redirect/git-pull?repo=https%3A%2F%2Fgithub.com%2Fcallysto%2Fcurriculum-notebooks&branch=master&subPath=Arts/ImageEditing/image-editing.ipynb&depth=1\" target=\"_parent\"><img src=\"https://raw.githubusercontent.com/callysto/curriculum-notebooks/master/open-in-callysto-button.svg?sanitize=true\" width=\"123\" height=\"24\" alt=\"Open in Callysto\"/></a>"
   ]
  },
  {
   "cell_type": "code",
   "execution_count": 1,
   "id": "2ec3214c",
   "metadata": {},
   "outputs": [
    {
     "data": {
      "text/html": [
       "<script>\n",
       "  function code_toggle() {\n",
       "    if (code_shown){\n",
       "      $('div.input').hide('500');\n",
       "      $('#toggleButton').val('Show Code')\n",
       "    } else {\n",
       "      $('div.input').show('500');\n",
       "      $('#toggleButton').val('Hide Code')\n",
       "    }\n",
       "    code_shown = !code_shown\n",
       "  }\n",
       "  \n",
       "  $( document ).ready(function(){\n",
       "    code_shown=false;\n",
       "    $('div.input').hide()\n",
       "  });\n",
       "</script>\n",
       "<form action=\"javascript:code_toggle()\"><input type=\"submit\" id=\"toggleButton\" value=\"Show Code\"></form>\n"
      ],
      "text/plain": [
       "<IPython.core.display.HTML object>"
      ]
     },
     "metadata": {},
     "output_type": "display_data"
    }
   ],
   "source": [
    "%%html\n",
    "<script>\n",
    "  function code_toggle() {\n",
    "    if (code_shown){\n",
    "      $('div.input').hide('500');\n",
    "      $('#toggleButton').val('Show Code')\n",
    "    } else {\n",
    "      $('div.input').show('500');\n",
    "      $('#toggleButton').val('Hide Code')\n",
    "    }\n",
    "    code_shown = !code_shown\n",
    "  }\n",
    "  \n",
    "  $( document ).ready(function(){\n",
    "    code_shown=false;\n",
    "    $('div.input').hide()\n",
    "  });\n",
    "</script>\n",
    "<form action=\"javascript:code_toggle()\"><input type=\"submit\" id=\"toggleButton\" value=\"Show Code\"></form>"
   ]
  },
  {
   "cell_type": "markdown",
   "id": "f10f5b13",
   "metadata": {},
   "source": [
    "## Phidgets_5\n",
    "\n",
    "Let's use the previous work and connect the Phidget temperature and humidity sensors to a live gauge in Plotly.\n",
    "\n",
    "You can just click on the \"Run all\" button if you like to get this all working. \n"
   ]
  },
  {
   "cell_type": "markdown",
   "id": "0aad94cc",
   "metadata": {},
   "source": [
    "## Setup the device\n",
    "\n",
    "Click the button below \"Connect Phidgets\" to connect your phidget device to this Jupyter notebook.\n",
    "\n",
    "You must be running on Chrome on your laptop or desktop, and the Phidget device needs to be connected to the USB port on your computer. "
   ]
  },
  {
   "cell_type": "code",
   "execution_count": 1,
   "id": "a2b2b566",
   "metadata": {},
   "outputs": [
    {
     "data": {
      "text/html": [
       "<script>\n",
       "requirejs.config({\n",
       "    paths: { \n",
       "        'phidget22': ['https://unpkg.com/phidget22@^3.10/browser/phidget22'], \n",
       "    },                                  \n",
       "});\n",
       "\n",
       "var usbconn;\n",
       "require(['phidget22'], function(phidget22) {\n",
       "    console.log(phidget22);  \n",
       "    if(usbconn == null){\n",
       "        usbconn = new phidget22.USBConnection({\n",
       "        name: \"USB Devices\",\n",
       "        onError: (code, msg) => { console.error(\"Connection Error:\", msg); }\n",
       "        });\n",
       "    }\n",
       "    console.log(usbconn)\n",
       "    \n",
       "    usbconn.connect().catch(err => {\n",
       "        usbconn.delete();\n",
       "        console.error(\"Error connecting to USB\", err);\n",
       "        alert('Failed to connect to USB: ' + err);\n",
       "    });\n",
       "    \n",
       "    openHumidityPhidget();\n",
       "    openTemperaturePhidget();\n",
       "    \n",
       "    return {};\n",
       "});\n",
       "\n",
       "function openHumidityPhidget(){\n",
       "    require(['phidget22'], function(phidget22) {\n",
       "        let humiditySensor = new phidget22.HumiditySensor();\n",
       "        humiditySensor.onHumidityChange = function (humidity) {\n",
       "            IPython.notebook.kernel.execute(\n",
       "                \"f.data[1]['value'] = \"+ humidity + \";\"\n",
       "            );  \n",
       "        };\n",
       "        humiditySensor.open();\n",
       "        return {};\n",
       "});\n",
       "}\n",
       "\n",
       "function openTemperaturePhidget(){\n",
       "    require(['phidget22'], function(phidget22) {\n",
       "        let temperatureSensor = new phidget22.TemperatureSensor();\n",
       "        temperatureSensor.onTemperatureChange = function (temperature) {\n",
       "            IPython.notebook.kernel.execute(\n",
       "                \"f.data[0]['value'] = \"+ temperature + \";\"\n",
       "            );  \n",
       "        };\n",
       "        temperatureSensor.open();\n",
       "        return {};\n",
       "});\n",
       "}\n",
       "    \n",
       "function connectPhidgets(){\n",
       "    require(['phidget22'], function(phidget22) {\n",
       "    console.log(usbconn);  // or whatever\n",
       "    try {\n",
       "        usbconn.requestWebUSBDeviceAccess();\n",
       "    } catch (err) {\n",
       "        console.error('Request device error', err);\n",
       "    };\n",
       "    return {};\n",
       "});\n",
       "}\n",
       "</script>\n",
       "<div>\n",
       "<button onclick=\"connectPhidgets()\">Connect Phidgets</button>\n",
       "</div>\n"
      ],
      "text/plain": [
       "<IPython.core.display.HTML object>"
      ]
     },
     "metadata": {},
     "output_type": "display_data"
    }
   ],
   "source": [
    "%%html\n",
    "<script>\n",
    "requirejs.config({\n",
    "    paths: { \n",
    "        'phidget22': ['https://unpkg.com/phidget22@^3.10/browser/phidget22'], \n",
    "    },                                  \n",
    "});\n",
    "\n",
    "var usbconn;\n",
    "require(['phidget22'], function(phidget22) {\n",
    "    console.log(phidget22);  \n",
    "    if(usbconn == null){\n",
    "        usbconn = new phidget22.USBConnection({\n",
    "        name: \"USB Devices\",\n",
    "        onError: (code, msg) => { console.error(\"Connection Error:\", msg); }\n",
    "        });\n",
    "    }\n",
    "    console.log(usbconn)\n",
    "    \n",
    "    usbconn.connect().catch(err => {\n",
    "        usbconn.delete();\n",
    "        console.error(\"Error connecting to USB\", err);\n",
    "        alert('Failed to connect to USB: ' + err);\n",
    "    });\n",
    "    \n",
    "    openHumidityPhidget();\n",
    "    openTemperaturePhidget();\n",
    "    \n",
    "    return {};\n",
    "});\n",
    "\n",
    "function openHumidityPhidget(){\n",
    "    require(['phidget22'], function(phidget22) {\n",
    "        let humiditySensor = new phidget22.HumiditySensor();\n",
    "        humiditySensor.onHumidityChange = function (humidity) {\n",
    "            IPython.notebook.kernel.execute(\n",
    "                \"f.data[1]['value'] = \"+ humidity + \";\"\n",
    "            );  \n",
    "        };\n",
    "        humiditySensor.open();\n",
    "        return {};\n",
    "});\n",
    "}\n",
    "\n",
    "function openTemperaturePhidget(){\n",
    "    require(['phidget22'], function(phidget22) {\n",
    "        let temperatureSensor = new phidget22.TemperatureSensor();\n",
    "        temperatureSensor.onTemperatureChange = function (temperature) {\n",
    "            IPython.notebook.kernel.execute(\n",
    "                \"f.data[0]['value'] = \"+ temperature + \";\"\n",
    "            );  \n",
    "        };\n",
    "        temperatureSensor.open();\n",
    "        return {};\n",
    "});\n",
    "}\n",
    "    \n",
    "function connectPhidgets(){\n",
    "    require(['phidget22'], function(phidget22) {\n",
    "    console.log(usbconn);  // or whatever\n",
    "    try {\n",
    "        usbconn.requestWebUSBDeviceAccess();\n",
    "    } catch (err) {\n",
    "        console.error('Request device error', err);\n",
    "    };\n",
    "    return {};\n",
    "});\n",
    "}\n",
    "</script>\n",
    "<div>\n",
    "<button onclick=\"connectPhidgets()\">Connect Phidgets</button>\n",
    "</div>"
   ]
  },
  {
   "cell_type": "code",
   "execution_count": 2,
   "id": "390878fc",
   "metadata": {},
   "outputs": [
    {
     "data": {
      "application/vnd.jupyter.widget-view+json": {
       "model_id": "a1fde7a8744c465a92a2cffb37556390",
       "version_major": 2,
       "version_minor": 0
      },
      "text/plain": [
       "FigureWidget({\n",
       "    'data': [{'domain': {'x': [0.0, 0.45], 'y': [0, 1]},\n",
       "              'gauge': {'axis': {'rang…"
      ]
     },
     "metadata": {},
     "output_type": "display_data"
    }
   ],
   "source": [
    "from plotly.subplots import make_subplots\n",
    "import plotly.graph_objects as go\n",
    "\n",
    "ind_hum = go.Indicator(\n",
    "    mode = \"gauge+number\",\n",
    "    value = 40,\n",
    "    domain = {'x': [0, 1], 'y': [0, 1]},\n",
    "    title = {'text': \"Humidity\"},\n",
    "    gauge = {'axis': {'range': [0, 100]}}\n",
    ")\n",
    "\n",
    "ind_temp = go.Indicator(\n",
    "    mode = \"gauge+number\",\n",
    "    value = 20,\n",
    "    domain = {'x': [0, 1], 'y': [0, 1]},\n",
    "    title = {'text': \"Temperature\"},\n",
    "    gauge = {'axis': {'range': [5, 35]}}\n",
    ")\n",
    "\n",
    "\n",
    "fig = make_subplots(\n",
    "    rows=1,\n",
    "    cols=2,\n",
    "    specs=[[{'type' : 'domain'}, {'type' : 'domain'}]])\n",
    "fig.append_trace(ind_temp, row=1, col=1)\n",
    "fig.append_trace(ind_hum, row=1, col=2)\n",
    "\n",
    "f = go.FigureWidget(fig)\n",
    "\n",
    "f\n",
    "\n"
   ]
  },
  {
   "cell_type": "markdown",
   "id": "ba7ee230",
   "metadata": {},
   "source": [
    "[![Callysto.ca License](https://github.com/callysto/curriculum-notebooks/blob/master/callysto-notebook-banner-bottom.jpg?raw=true)](https://github.com/callysto/curriculum-notebooks/blob/master/LICENSE.md)"
   ]
  }
 ],
 "metadata": {
  "kernelspec": {
   "display_name": "Python 3 (ipykernel)",
   "language": "python",
   "name": "python3"
  },
  "language_info": {
   "codemirror_mode": {
    "name": "ipython",
    "version": 3
   },
   "file_extension": ".py",
   "mimetype": "text/x-python",
   "name": "python",
   "nbconvert_exporter": "python",
   "pygments_lexer": "ipython3",
   "version": "3.9.12"
  }
 },
 "nbformat": 4,
 "nbformat_minor": 5
}
